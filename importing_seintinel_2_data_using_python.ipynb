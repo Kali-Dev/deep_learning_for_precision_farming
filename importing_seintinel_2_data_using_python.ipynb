{
 "cells": [
  {
   "cell_type": "code",
   "execution_count": 1,
   "metadata": {},
   "outputs": [],
   "source": [
    "from sentinelsat import SentinelAPI, read_geojson, geojson_to_wkt\n",
    "from datetime import date\n",
    "#import geopandas as gpd"
   ]
  },
  {
   "cell_type": "code",
   "execution_count": 2,
   "metadata": {
    "collapsed": true
   },
   "outputs": [],
   "source": [
    "api = SentinelAPI('username', 'password', 'https://scihub.copernicus.eu/dhus/')"
   ]
  },
  {
   "cell_type": "code",
   "execution_count": 3,
   "metadata": {
    "collapsed": true
   },
   "outputs": [],
   "source": [
    "import pandas as pd\n",
    "import os"
   ]
  },
  {
   "cell_type": "code",
   "execution_count": 4,
   "metadata": {},
   "outputs": [
    {
     "data": {
      "text/plain": [
       "['detroit.geojson',\n",
       " 'london.geojson',\n",
       " 'multiple_cities.geojson',\n",
       " 'singapore.geojson']"
      ]
     },
     "execution_count": 4,
     "metadata": {},
     "output_type": "execute_result"
    }
   ],
   "source": [
    "geo_json_files = os.listdir(path='C:/Users/Administrator/Desktop/satellite_project/map_locations')\n",
    "geo_json_files"
   ]
  },
  {
   "cell_type": "code",
   "execution_count": 5,
   "metadata": {
    "collapsed": true
   },
   "outputs": [],
   "source": [
    "folder_path = 'C:/Users/Administrator/Desktop/satellite_project/map_locations/'"
   ]
  },
  {
   "cell_type": "code",
   "execution_count": 15,
   "metadata": {},
   "outputs": [],
   "source": [
    "footprint = geojson_to_wkt(read_geojson(folder_path+geo_json_files[2]), feature_number=0)"
   ]
  },
  {
   "cell_type": "code",
   "execution_count": 9,
   "metadata": {
    "collapsed": true
   },
   "outputs": [],
   "source": [
    "import json"
   ]
  },
  {
   "cell_type": "code",
   "execution_count": 17,
   "metadata": {},
   "outputs": [
    {
     "name": "stdout",
     "output_type": "stream",
     "text": [
      "6\n"
     ]
    }
   ],
   "source": [
    "json_data = open(folder_path+'multiple_cities.geojson')\n",
    "data = json.load(json_data)\n",
    "print(len(data['features']))\n",
    "features_lenght = len(data['features'])"
   ]
  },
  {
   "cell_type": "code",
   "execution_count": 18,
   "metadata": {
    "collapsed": true
   },
   "outputs": [],
   "source": [
    "multiple_footprints = []\n",
    "for fno in range(features_lenght):\n",
    "    multiple_footprints.append(geojson_to_wkt(read_geojson(folder_path+geo_json_files[2]), feature_number=fno))"
   ]
  },
  {
   "cell_type": "code",
   "execution_count": 19,
   "metadata": {},
   "outputs": [
    {
     "data": {
      "text/plain": [
       "['POLYGON((-95.0177 29.4049,-94.9169 29.4049,-94.9169 29.4683,-95.0177 29.4683,-95.0177 29.4049))',\n",
       " 'POLYGON((-62.5417 46.3941,-62.4367 46.3941,-62.4367 46.4483,-62.5417 46.4483,-62.5417 46.3941))',\n",
       " 'POLYGON((10.8947 47.7108,11.0054 47.7108,11.0054 47.7643,10.8947 47.7643,10.8947 47.7108))',\n",
       " 'POLYGON((76.8458 28.6847,76.9034 28.6847,76.9034 28.7192,76.8458 28.7192,76.8458 28.6847))',\n",
       " 'POLYGON((78.3007 17.4519,78.3608 17.4519,78.3608 17.4875,78.3007 17.4875,78.3007 17.4519))',\n",
       " 'POLYGON((85.8132 26.7371,85.8286 26.7371,85.8286 26.7463,85.8132 26.7463,85.8132 26.7371))']"
      ]
     },
     "execution_count": 19,
     "metadata": {},
     "output_type": "execute_result"
    }
   ],
   "source": [
    "multiple_footprints"
   ]
  },
  {
   "cell_type": "code",
   "execution_count": 58,
   "metadata": {},
   "outputs": [],
   "source": [
    "def get_product_name(footprints_list):\n",
    "    product_names_list = []\n",
    "    for num,fp in enumerate(footprints_list):\n",
    "        products = api.query(fp,\n",
    "                     date = ('20190601', '20190809'),\n",
    "                     platformname = 'Sentinel-2',\n",
    "                     processinglevel = 'Level-2A',\n",
    "                     cloudcoverpercentage = (0,10)\n",
    "                    )\n",
    "        products_df = api.to_dataframe(products)\n",
    "        if (len(products_df.columns) != 0):\n",
    "            print(f'images obtained for {num} indexed footprint')\n",
    "            products_df.vegetationpercentage.sort_values(ascending=False)\n",
    "            product_name = products_df.vegetationpercentage.sort_values(ascending=False).keys()[0]\n",
    "            product_names_list.append(product_name)\n",
    "        else:\n",
    "            print(f'no satellite image available for specified date {num} indexed footprint for the given filters')\n",
    "    return product_names_list"
   ]
  },
  {
   "cell_type": "code",
   "execution_count": 59,
   "metadata": {},
   "outputs": [
    {
     "name": "stdout",
     "output_type": "stream",
     "text": [
      "images obtained for 0 indexed footprint\n",
      "images obtained for 1 indexed footprint\n",
      "images obtained for 2 indexed footprint\n",
      "images obtained for 3 indexed footprint\n",
      "images obtained for 4 indexed footprint\n",
      "images obtained for 5 indexed footprint\n"
     ]
    }
   ],
   "source": [
    "product_list = get_product_name(multiple_footprints)"
   ]
  },
  {
   "cell_type": "code",
   "execution_count": 60,
   "metadata": {},
   "outputs": [
    {
     "data": {
      "text/plain": [
       "['ae5949c0-133a-4586-ae06-0a5f317f5a19',\n",
       " 'dc22b919-2503-47b6-a3db-34103ed96761',\n",
       " '5960b3ca-de73-4ee2-ba78-e0e8394a9e65',\n",
       " '90c76759-d6c2-4693-8e60-aae6a355a25a',\n",
       " '8800290f-b968-4d2e-bec3-35f1af1f622f',\n",
       " '28be1e7d-75aa-47df-be6a-d9780067200e']"
      ]
     },
     "execution_count": 60,
     "metadata": {},
     "output_type": "execute_result"
    }
   ],
   "source": [
    "product_list"
   ]
  },
  {
   "cell_type": "code",
   "execution_count": 61,
   "metadata": {},
   "outputs": [
    {
     "name": "stderr",
     "output_type": "stream",
     "text": [
      "Downloading: 100%|██████████████████████████████████████████████████████████████████| 761M/761M [06:46<00:00, 1.87MB/s]\n",
      "MD5 checksumming: 100%|██████████████████████████████████████████████████████████████| 761M/761M [00:02<00:00, 343MB/s]\n",
      "Downloading: 100%|██████████████████████████████████████████████████████████████████| 924M/924M [09:36<00:00, 2.64MB/s]\n",
      "MD5 checksumming: 100%|██████████████████████████████████████████████████████████████| 924M/924M [00:02<00:00, 339MB/s]\n",
      "Downloading: 100%|███████████████████████████████████████████████████████████████████| 558M/558M [04:55<00:00, 720kB/s]\n",
      "MD5 checksumming: 100%|██████████████████████████████████████████████████████████████| 558M/558M [00:01<00:00, 348MB/s]\n",
      "Downloading: 100%|████████████████████████████████████████████████████████████████| 1.18G/1.18G [10:58<00:00, 1.58MB/s]\n",
      "MD5 checksumming: 100%|████████████████████████████████████████████████████████████| 1.18G/1.18G [00:03<00:00, 343MB/s]\n",
      "Downloading: 100%|████████████████████████████████████████████████████████████████| 1.19G/1.19G [14:16<00:00, 3.45MB/s]\n",
      "MD5 checksumming: 100%|████████████████████████████████████████████████████████████| 1.19G/1.19G [00:03<00:00, 347MB/s]\n",
      "Downloading: 100%|████████████████████████████████████████████████████████████████| 1.22G/1.22G [09:16<00:00, 1.76MB/s]\n",
      "MD5 checksumming: 100%|████████████████████████████████████████████████████████████| 1.22G/1.22G [00:03<00:00, 345MB/s]\n"
     ]
    }
   ],
   "source": [
    "for sat_prod in product_list:\n",
    "    api.download(sat_prod)"
   ]
  },
  {
   "cell_type": "code",
   "execution_count": 35,
   "metadata": {},
   "outputs": [
    {
     "data": {
      "text/plain": [
       "f78c266f-c392-49ba-ac39-ec30c9250a2a    86.993003\n",
       "380f1e95-a296-48b1-ab10-4661c02aa60a    81.513250\n",
       "7a688a1a-bb58-4483-bc60-d63c52bd0998    80.016559\n",
       "c3aaa768-75f4-449e-8080-f53ad298f556    79.652047\n",
       "9238f8a3-3d2c-4a91-884b-92e18b6e7b03    67.849618\n",
       "5edfb3e1-885b-4948-8417-e4bebfb088bd    67.554456\n",
       "Name: vegetationpercentage, dtype: float64"
      ]
     },
     "execution_count": 35,
     "metadata": {},
     "output_type": "execute_result"
    }
   ],
   "source": [
    "products_df.vegetationpercentage.sort_values(ascending=False).keys()[0]"
   ]
  },
  {
   "cell_type": "code",
   "execution_count": null,
   "metadata": {
    "collapsed": true
   },
   "outputs": [],
   "source": []
  }
 ],
 "metadata": {
  "kernelspec": {
   "display_name": "Python 3",
   "language": "python",
   "name": "python3"
  },
  "language_info": {
   "codemirror_mode": {
    "name": "ipython",
    "version": 3
   },
   "file_extension": ".py",
   "mimetype": "text/x-python",
   "name": "python",
   "nbconvert_exporter": "python",
   "pygments_lexer": "ipython3",
   "version": "3.6.3"
  }
 },
 "nbformat": 4,
 "nbformat_minor": 2
}
